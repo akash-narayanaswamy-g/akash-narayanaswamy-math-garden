{
 "cells": [
  {
   "cell_type": "markdown",
   "id": "b8d41dca",
   "metadata": {},
   "source": [
    "# Imports"
   ]
  },
  {
   "cell_type": "code",
   "execution_count": 67,
   "id": "7739fbe9",
   "metadata": {},
   "outputs": [],
   "source": [
    "import os\n",
    "import numpy as np\n",
    "import tensorflow as tf\n",
    "\n",
    "from time import strftime\n",
    "from PIL import Image\n"
   ]
  },
  {
   "cell_type": "markdown",
   "id": "4a79353f",
   "metadata": {},
   "source": [
    "# Constants"
   ]
  },
  {
   "cell_type": "code",
   "execution_count": 68,
   "id": "07847189",
   "metadata": {},
   "outputs": [],
   "source": [
    "X_TRAIN_PATH = 'MNIST/digit_xtrain.csv'\n",
    "X_TEST_PATH = 'MNIST/digit_xtest.csv'\n",
    "Y_TRAIN_PATH = 'MNIST/digit_ytrain.csv'\n",
    "Y_TEST_PATH = 'MNIST/digit_ytest.csv'\n",
    "\n",
    "LOGGING_PATH = 'tensorboard_mnist_digit_logs/'\n",
    "\n",
    "NR_CLASSES = 10\n",
    "VALIDATION_SIZE = 10000\n",
    "IMAGE_WIDTH = 28\n",
    "IMAGE_HEIGHT = 28\n",
    "CHANNELS = 1\n",
    "TOTAL_INPUTS = IMAGE_WIDTH*IMAGE_HEIGHT*CHANNELS"
   ]
  },
  {
   "cell_type": "markdown",
   "id": "c5485811",
   "metadata": {},
   "source": [
    "## Getting data"
   ]
  },
  {
   "cell_type": "code",
   "execution_count": 69,
   "id": "28bdd658",
   "metadata": {},
   "outputs": [
    {
     "name": "stdout",
     "output_type": "stream",
     "text": [
      "Wall time: 42.3 s\n"
     ]
    }
   ],
   "source": [
    "%%time\n",
    "x_train_all=np.loadtxt(X_TRAIN_PATH,delimiter=',',dtype=int)"
   ]
  },
  {
   "cell_type": "code",
   "execution_count": 70,
   "id": "45710a00",
   "metadata": {},
   "outputs": [
    {
     "name": "stdout",
     "output_type": "stream",
     "text": [
      "Wall time: 345 ms\n"
     ]
    }
   ],
   "source": [
    "%%time\n",
    "y_train_all=np.loadtxt(Y_TRAIN_PATH,delimiter=',',dtype=int)"
   ]
  },
  {
   "cell_type": "code",
   "execution_count": 71,
   "id": "bb4837e4",
   "metadata": {},
   "outputs": [
    {
     "name": "stdout",
     "output_type": "stream",
     "text": [
      "Wall time: 7.01 s\n"
     ]
    }
   ],
   "source": [
    "%%time\n",
    "x_test=np.loadtxt(X_TEST_PATH,delimiter=',',dtype=int)"
   ]
  },
  {
   "cell_type": "code",
   "execution_count": 72,
   "id": "8b3e42e8",
   "metadata": {},
   "outputs": [
    {
     "name": "stdout",
     "output_type": "stream",
     "text": [
      "Wall time: 76 ms\n"
     ]
    }
   ],
   "source": [
    "%%time\n",
    "y_test=np.loadtxt(Y_TEST_PATH,delimiter=',',dtype=int)"
   ]
  },
  {
   "cell_type": "markdown",
   "id": "c0280e9e",
   "metadata": {},
   "source": [
    "# Explore"
   ]
  },
  {
   "cell_type": "code",
   "execution_count": 73,
   "id": "280dd7a5",
   "metadata": {},
   "outputs": [
    {
     "data": {
      "text/plain": [
       "(60000, 784)"
      ]
     },
     "execution_count": 73,
     "metadata": {},
     "output_type": "execute_result"
    }
   ],
   "source": [
    "x_train_all.shape"
   ]
  },
  {
   "cell_type": "code",
   "execution_count": 74,
   "id": "4937ddc7",
   "metadata": {},
   "outputs": [
    {
     "data": {
      "text/plain": [
       "array([  0,   0,   0,   0,   0,   0,   0,   0,   0,   0,   0,   0,   0,\n",
       "         0,   0,   0,   0,   0,   0,   0,   0,   0,   0,   0,   0,   0,\n",
       "         0,   0,   0,   0,   0,   0,   0,   0,   0,   0,   0,   0,   0,\n",
       "         0,   0,   0,   0,   0,   0,   0,   0,   0,   0,   0,   0,   0,\n",
       "         0,   0,   0,   0,   0,   0,   0,   0,   0,   0,   0,   0,   0,\n",
       "         0,   0,   0,   0,   0,   0,   0,   0,   0,   0,   0,   0,   0,\n",
       "         0,   0,   0,   0,   0,   0,   0,   0,   0,   0,   0,   0,   0,\n",
       "         0,   0,   0,   0,   0,   0,   0,   0,   0,   0,   0,   0,   0,\n",
       "         0,   0,   0,   0,   0,   0,   0,   0,   0,   0,   0,   0,   0,\n",
       "         0,   0,   0,   0,   0,   0,   0,   0,   0,   0,   0,   0,   0,\n",
       "         0,   0,   0,   0,   0,   0,   0,   0,   0,   0,   0,   0,   0,\n",
       "         0,   0,   0,   0,   0,   0,   0,   0,   0,   3,  18,  18,  18,\n",
       "       126, 136, 175,  26, 166, 255, 247, 127,   0,   0,   0,   0,   0,\n",
       "         0,   0,   0,   0,   0,   0,   0,  30,  36,  94, 154, 170, 253,\n",
       "       253, 253, 253, 253, 225, 172, 253, 242, 195,  64,   0,   0,   0,\n",
       "         0,   0,   0,   0,   0,   0,   0,   0,  49, 238, 253, 253, 253,\n",
       "       253, 253, 253, 253, 253, 251,  93,  82,  82,  56,  39,   0,   0,\n",
       "         0,   0,   0,   0,   0,   0,   0,   0,   0,   0,  18, 219, 253,\n",
       "       253, 253, 253, 253, 198, 182, 247, 241,   0,   0,   0,   0,   0,\n",
       "         0,   0,   0,   0,   0,   0,   0,   0,   0,   0,   0,   0,   0,\n",
       "        80, 156, 107, 253, 253, 205,  11,   0,  43, 154,   0,   0,   0,\n",
       "         0,   0,   0,   0,   0,   0,   0,   0,   0,   0,   0,   0,   0,\n",
       "         0,   0,   0,  14,   1, 154, 253,  90,   0,   0,   0,   0,   0,\n",
       "         0,   0,   0,   0,   0,   0,   0,   0,   0,   0,   0,   0,   0,\n",
       "         0,   0,   0,   0,   0,   0,   0, 139, 253, 190,   2,   0,   0,\n",
       "         0,   0,   0,   0,   0,   0,   0,   0,   0,   0,   0,   0,   0,\n",
       "         0,   0,   0,   0,   0,   0,   0,   0,   0,  11, 190, 253,  70,\n",
       "         0,   0,   0,   0,   0,   0,   0,   0,   0,   0,   0,   0,   0,\n",
       "         0,   0,   0,   0,   0,   0,   0,   0,   0,   0,   0,   0,  35,\n",
       "       241, 225, 160, 108,   1,   0,   0,   0,   0,   0,   0,   0,   0,\n",
       "         0,   0,   0,   0,   0,   0,   0,   0,   0,   0,   0,   0,   0,\n",
       "         0,   0,  81, 240, 253, 253, 119,  25,   0,   0,   0,   0,   0,\n",
       "         0,   0,   0,   0,   0,   0,   0,   0,   0,   0,   0,   0,   0,\n",
       "         0,   0,   0,   0,   0,  45, 186, 253, 253, 150,  27,   0,   0,\n",
       "         0,   0,   0,   0,   0,   0,   0,   0,   0,   0,   0,   0,   0,\n",
       "         0,   0,   0,   0,   0,   0,   0,   0,  16,  93, 252, 253, 187,\n",
       "         0,   0,   0,   0,   0,   0,   0,   0,   0,   0,   0,   0,   0,\n",
       "         0,   0,   0,   0,   0,   0,   0,   0,   0,   0,   0,   0, 249,\n",
       "       253, 249,  64,   0,   0,   0,   0,   0,   0,   0,   0,   0,   0,\n",
       "         0,   0,   0,   0,   0,   0,   0,   0,   0,   0,   0,  46, 130,\n",
       "       183, 253, 253, 207,   2,   0,   0,   0,   0,   0,   0,   0,   0,\n",
       "         0,   0,   0,   0,   0,   0,   0,   0,   0,   0,   0,  39, 148,\n",
       "       229, 253, 253, 253, 250, 182,   0,   0,   0,   0,   0,   0,   0,\n",
       "         0,   0,   0,   0,   0,   0,   0,   0,   0,   0,   0,  24, 114,\n",
       "       221, 253, 253, 253, 253, 201,  78,   0,   0,   0,   0,   0,   0,\n",
       "         0,   0,   0,   0,   0,   0,   0,   0,   0,   0,   0,  23,  66,\n",
       "       213, 253, 253, 253, 253, 198,  81,   2,   0,   0,   0,   0,   0,\n",
       "         0,   0,   0,   0,   0,   0,   0,   0,   0,   0,   0,  18, 171,\n",
       "       219, 253, 253, 253, 253, 195,  80,   9,   0,   0,   0,   0,   0,\n",
       "         0,   0,   0,   0,   0,   0,   0,   0,   0,   0,   0,  55, 172,\n",
       "       226, 253, 253, 253, 253, 244, 133,  11,   0,   0,   0,   0,   0,\n",
       "         0,   0,   0,   0,   0,   0,   0,   0,   0,   0,   0,   0,   0,\n",
       "       136, 253, 253, 253, 212, 135, 132,  16,   0,   0,   0,   0,   0,\n",
       "         0,   0,   0,   0,   0,   0,   0,   0,   0,   0,   0,   0,   0,\n",
       "         0,   0,   0,   0,   0,   0,   0,   0,   0,   0,   0,   0,   0,\n",
       "         0,   0,   0,   0,   0,   0,   0,   0,   0,   0,   0,   0,   0,\n",
       "         0,   0,   0,   0,   0,   0,   0,   0,   0,   0,   0,   0,   0,\n",
       "         0,   0,   0,   0,   0,   0,   0,   0,   0,   0,   0,   0,   0,\n",
       "         0,   0,   0,   0,   0,   0,   0,   0,   0,   0,   0,   0,   0,\n",
       "         0,   0,   0,   0,   0,   0,   0,   0,   0,   0,   0,   0,   0,\n",
       "         0,   0,   0,   0])"
      ]
     },
     "execution_count": 74,
     "metadata": {},
     "output_type": "execute_result"
    }
   ],
   "source": [
    "x_train_all[0]"
   ]
  },
  {
   "cell_type": "code",
   "execution_count": null,
   "id": "2e37b55f",
   "metadata": {},
   "outputs": [],
   "source": []
  },
  {
   "cell_type": "markdown",
   "id": "59752ff5",
   "metadata": {},
   "source": [
    "# Data Preprocessing"
   ]
  },
  {
   "cell_type": "code",
   "execution_count": 75,
   "id": "e1a0af94",
   "metadata": {},
   "outputs": [],
   "source": [
    "# rescaling to reduce learning rate\n",
    "x_train_all,x_test=x_train_all/255.0,x_test/255.0"
   ]
  },
  {
   "cell_type": "code",
   "execution_count": 76,
   "id": "34052bfb",
   "metadata": {},
   "outputs": [
    {
     "data": {
      "text/plain": [
       "array([5, 0, 4, 1, 9])"
      ]
     },
     "execution_count": 76,
     "metadata": {},
     "output_type": "execute_result"
    }
   ],
   "source": [
    "y_train_all[:5]"
   ]
  },
  {
   "cell_type": "code",
   "execution_count": 77,
   "id": "a58d4c8d",
   "metadata": {},
   "outputs": [
    {
     "data": {
      "text/plain": [
       "array([[0., 0., 0., 0., 0., 1., 0., 0., 0., 0.],\n",
       "       [1., 0., 0., 0., 0., 0., 0., 0., 0., 0.],\n",
       "       [0., 0., 0., 0., 1., 0., 0., 0., 0., 0.],\n",
       "       [0., 1., 0., 0., 0., 0., 0., 0., 0., 0.],\n",
       "       [0., 0., 0., 0., 0., 0., 0., 0., 0., 1.]])"
      ]
     },
     "execution_count": 77,
     "metadata": {},
     "output_type": "execute_result"
    }
   ],
   "source": [
    "values=y_train_all[:5]\n",
    "np.eye(10)[values]"
   ]
  },
  {
   "cell_type": "code",
   "execution_count": 78,
   "id": "f7b62f21",
   "metadata": {},
   "outputs": [
    {
     "data": {
      "text/plain": [
       "(60000,)"
      ]
     },
     "execution_count": 78,
     "metadata": {},
     "output_type": "execute_result"
    }
   ],
   "source": [
    "y_train_all.shape"
   ]
  },
  {
   "cell_type": "code",
   "execution_count": 79,
   "id": "317f7cad",
   "metadata": {},
   "outputs": [],
   "source": [
    "y_train_all=np.eye(NR_CLASSES)[y_train_all]"
   ]
  },
  {
   "cell_type": "code",
   "execution_count": 80,
   "id": "b23d121c",
   "metadata": {},
   "outputs": [
    {
     "data": {
      "text/plain": [
       "(60000, 10)"
      ]
     },
     "execution_count": 80,
     "metadata": {},
     "output_type": "execute_result"
    }
   ],
   "source": [
    "y_train_all.shape"
   ]
  },
  {
   "cell_type": "code",
   "execution_count": 81,
   "id": "10d5c011",
   "metadata": {},
   "outputs": [
    {
     "data": {
      "text/plain": [
       "(10000, 10)"
      ]
     },
     "execution_count": 81,
     "metadata": {},
     "output_type": "execute_result"
    }
   ],
   "source": [
    "y_test=np.eye(NR_CLASSES)[y_test]\n",
    "y_test.shape"
   ]
  },
  {
   "cell_type": "markdown",
   "id": "9d81dab3",
   "metadata": {},
   "source": [
    "## Creating validation dataset"
   ]
  },
  {
   "cell_type": "code",
   "execution_count": 82,
   "id": "ef4373fa",
   "metadata": {},
   "outputs": [],
   "source": [
    "x_val=x_train_all[:VALIDATION_SIZE]\n",
    "y_val=y_train_all[:VALIDATION_SIZE]"
   ]
  },
  {
   "cell_type": "code",
   "execution_count": 83,
   "id": "47a567ea",
   "metadata": {},
   "outputs": [
    {
     "data": {
      "text/plain": [
       "(10000, 784)"
      ]
     },
     "execution_count": 83,
     "metadata": {},
     "output_type": "execute_result"
    }
   ],
   "source": [
    "x_val.shape"
   ]
  },
  {
   "cell_type": "code",
   "execution_count": 84,
   "id": "f37b8eae",
   "metadata": {},
   "outputs": [
    {
     "data": {
      "text/plain": [
       "(10000, 10)"
      ]
     },
     "execution_count": 84,
     "metadata": {},
     "output_type": "execute_result"
    }
   ],
   "source": [
    "y_val.shape"
   ]
  },
  {
   "cell_type": "code",
   "execution_count": 85,
   "id": "34ad8ec1",
   "metadata": {},
   "outputs": [],
   "source": [
    "x_train=x_train_all[VALIDATION_SIZE:]\n",
    "y_train=y_train_all[VALIDATION_SIZE:]"
   ]
  },
  {
   "cell_type": "code",
   "execution_count": 86,
   "id": "d28142fd",
   "metadata": {},
   "outputs": [
    {
     "data": {
      "text/plain": [
       "(50000, 784)"
      ]
     },
     "execution_count": 86,
     "metadata": {},
     "output_type": "execute_result"
    }
   ],
   "source": [
    "x_train.shape"
   ]
  },
  {
   "cell_type": "code",
   "execution_count": 87,
   "id": "60b77887",
   "metadata": {},
   "outputs": [
    {
     "data": {
      "text/plain": [
       "(50000, 10)"
      ]
     },
     "execution_count": 87,
     "metadata": {},
     "output_type": "execute_result"
    }
   ],
   "source": [
    "y_train.shape"
   ]
  },
  {
   "cell_type": "code",
   "execution_count": null,
   "id": "866feac9",
   "metadata": {},
   "outputs": [],
   "source": []
  },
  {
   "cell_type": "markdown",
   "id": "f3eec014",
   "metadata": {},
   "source": [
    "# Setup tensor graph"
   ]
  },
  {
   "cell_type": "code",
   "execution_count": 88,
   "id": "fc1e47dc",
   "metadata": {},
   "outputs": [],
   "source": [
    "tf.compat.v1.disable_eager_execution()"
   ]
  },
  {
   "cell_type": "code",
   "execution_count": 89,
   "id": "c9d626d2",
   "metadata": {},
   "outputs": [],
   "source": [
    "\n",
    "#X = tf.placeholder(tf.float32, shape=[None, NR_CLASSES], name='labels')\n",
    "#Y = tf.placeholder(tf.float32, shape=[None, NR_CLASSES], name='labels')\n",
    "X=tf.compat.v1.placeholder(tf.float32,  shape=[None, TOTAL_INPUTS], name='X')\n",
    "Y = tf.compat.v1.placeholder(tf.float32, shape=[None, NR_CLASSES], name='labels')"
   ]
  },
  {
   "cell_type": "code",
   "execution_count": null,
   "id": "8512321d",
   "metadata": {},
   "outputs": [],
   "source": []
  },
  {
   "cell_type": "markdown",
   "id": "e338bb07",
   "metadata": {},
   "source": [
    "## Neural Network   Architecture"
   ]
  },
  {
   "cell_type": "markdown",
   "id": "ca56d221",
   "metadata": {},
   "source": [
    "### Hyper parameters"
   ]
  },
  {
   "cell_type": "code",
   "execution_count": 90,
   "id": "85669fb1",
   "metadata": {},
   "outputs": [],
   "source": [
    "nr_epochs = 50\n",
    "learning_rate = 1e-2\n",
    "\n",
    "n_hidden1 = 512\n",
    "n_hidden2 = 64"
   ]
  },
  {
   "cell_type": "code",
   "execution_count": 91,
   "id": "a4326be3",
   "metadata": {},
   "outputs": [
    {
     "data": {
      "text/plain": [
       "0.01"
      ]
     },
     "execution_count": 91,
     "metadata": {},
     "output_type": "execute_result"
    }
   ],
   "source": [
    "1e-2"
   ]
  },
  {
   "cell_type": "code",
   "execution_count": 92,
   "id": "f4e7d7bc",
   "metadata": {},
   "outputs": [],
   "source": [
    "# #layer 1\n",
    "# with tf.compat.v1.name_scope(\"hidden_layer_1\"):\n",
    "#     initial_w1 = tf.compat.v1.truncated_normal(shape=[TOTAL_INPUTS,n_hidden1], stddev=0.1, seed=42)\n",
    "#     w1 = tf.Variable(initial_value=initial_w1, name='w1')\n",
    "\n",
    "#     initial_b1=tf.constant(value=0.0,shape=[n_hidden1])\n",
    "#     b1=tf.Variable(initial_value=initial_b1, name='b1')\n",
    "\n",
    "#     layer_in1=tf.matmul(X,w1)+b1\n",
    "#     layer_out1=tf.nn.relu(layer_in1)"
   ]
  },
  {
   "cell_type": "code",
   "execution_count": 93,
   "id": "17040300",
   "metadata": {},
   "outputs": [],
   "source": [
    "# #layer 2\n",
    "# with tf.compat.v1.name_scope(\"hidden_layer_2\"):\n",
    "#     initial_w2 = tf.compat.v1.truncated_normal(shape=[n_hidden1,n_hidden2], stddev=0.1, seed=42)\n",
    "#     w2 = tf.Variable(initial_value=initial_w2, name='w2')\n",
    "\n",
    "#     initial_b2=tf.constant(value=0.0,shape=[n_hidden2])\n",
    "#     b2=tf.Variable(initial_value=initial_b2, name='b1')\n",
    "\n",
    "#     layer_in2=tf.matmul(layer_out1,w2)+b2\n",
    "#     layer_out2=tf.nn.relu(layer_in2)"
   ]
  },
  {
   "cell_type": "code",
   "execution_count": 94,
   "id": "6800396e",
   "metadata": {},
   "outputs": [],
   "source": [
    "# #layer 3\n",
    "# with tf.compat.v1.name_scope(\"output_layer\"):\n",
    "#     initial_w3 = tf.compat.v1.truncated_normal(shape=[n_hidden2,NR_CLASSES], stddev=0.1, seed=42)\n",
    "#     w3 = tf.Variable(initial_value=initial_w3)\n",
    "\n",
    "#     initial_b3=tf.constant(value=0.0,shape=[NR_CLASSES])\n",
    "#     b3=tf.Variable(initial_value=initial_b3)\n",
    "\n",
    "#     layer_in3=tf.matmul(layer_out2,w3)+b3\n",
    "#     output=tf.nn.softmax(layer_in3)"
   ]
  },
  {
   "cell_type": "code",
   "execution_count": 95,
   "id": "3caa4e3b",
   "metadata": {},
   "outputs": [],
   "source": [
    "# def setup_layer(input_,weight_dimension,bias_dimension,name):\n",
    "#     with tf.compat.v1.name_scope(name):\n",
    "#         initial_w = tf.compat.v1.truncated_normal(shape=weight_dimension, stddev=0.1, seed=42)\n",
    "#         w = tf.Variable(initial_value=initial_w, name='W')\n",
    "\n",
    "#         initial_b=tf.constant(value=0.0,shape=bias_dimension)\n",
    "#         b=tf.Variable(initial_value=initial_b, name='B')\n",
    "\n",
    "#         layer_in=tf.compat.v1.matmul(input_,w)+b\n",
    "#         if(name==\"output_layer\"):\n",
    "#             layer_out=tf.nn.softmax(layer_in)\n",
    "#         else:\n",
    "#             layer_out=tf.nn.relu(layer_in)\n",
    "            \n",
    "#         return layer_out"
   ]
  },
  {
   "cell_type": "code",
   "execution_count": 99,
   "id": "cc0f7c05",
   "metadata": {},
   "outputs": [],
   "source": [
    "def setup_layer(input, weight_dim, bias_dim, name):\n",
    "    \n",
    "    with tf.name_scope(name):\n",
    "        initial_w = tf.compat.v1.truncated_normal(shape=weight_dim, stddev=0.1, seed=42)\n",
    "        w = tf.compat.v1.Variable(initial_value=initial_w, name='W')\n",
    "\n",
    "        initial_b = tf.compat.v1.constant(value=0.0, shape=bias_dim)\n",
    "        b = tf.compat.v1.Variable(initial_value=initial_b, name='B')\n",
    "\n",
    "        layer_in = tf.compat.v1.matmul(input, w) + b\n",
    "        \n",
    "        if name=='out':\n",
    "            layer_out = tf.compat.v1.nn.softmax(layer_in)\n",
    "        else:\n",
    "            layer_out = tf.compat.v1.nn.relu(layer_in)\n",
    "        \n",
    "        tf.compat.v1.summary.histogram('weights', w)\n",
    "        tf.compat.v1.summary.histogram('biases', b)\n",
    "        \n",
    "        return layer_out"
   ]
  },
  {
   "cell_type": "code",
   "execution_count": 100,
   "id": "f634cce4",
   "metadata": {},
   "outputs": [],
   "source": [
    "# layer_1=setup_layer(X,weight_dim=[TOTAL_INPUTS,n_hidden1],\n",
    "#                     bias_dim=[n_hidden1],name=\"layer_1\")\n",
    "\n",
    "# layer_2=setup_layer(layer_1,weight_dim=[n_hidden1,n_hidden2],\n",
    "#                     bias_dim=[n_hidden2],name=\"layer_2\")\n",
    "\n",
    "# output=setup_layer(layer_2,weight_dim=[n_hidden2,NR_CLASSES],\n",
    "#                    bias_dim=[NR_CLASSES],name=\"output_layer\")"
   ]
  },
  {
   "cell_type": "code",
   "execution_count": 101,
   "id": "5a9bfd76",
   "metadata": {},
   "outputs": [],
   "source": [
    "#Adding dropout\n",
    "layer_1=setup_layer(X,weight_dim=[TOTAL_INPUTS,n_hidden1],\n",
    "                    bias_dim=[n_hidden1],name=\"layer_1\")\n",
    "dropout_layer=tf.compat.v1.nn.dropout(layer_1,keep_prob=0.8,name='dropout_layer')\n",
    "\n",
    "layer_2=setup_layer(dropout_layer,weight_dim=[n_hidden1,n_hidden2],\n",
    "                    bias_dim=[n_hidden2],name=\"layer_2\")\n",
    "\n",
    "output=setup_layer(layer_2,weight_dim=[n_hidden2,NR_CLASSES],\n",
    "                   bias_dim=[NR_CLASSES],name=\"out\")"
   ]
  },
  {
   "cell_type": "markdown",
   "id": "1a51f362",
   "metadata": {},
   "source": [
    "## Tensorboard setup"
   ]
  },
  {
   "cell_type": "code",
   "execution_count": 102,
   "id": "3e0d49a3",
   "metadata": {},
   "outputs": [],
   "source": [
    "model_name=f'{n_hidden1}-{n_hidden2}  Learning_rate {learning_rate} epochs  {nr_epochs}'"
   ]
  },
  {
   "cell_type": "code",
   "execution_count": 103,
   "id": "bada824a",
   "metadata": {},
   "outputs": [
    {
     "name": "stdout",
     "output_type": "stream",
     "text": [
      "created successfully!!!\n"
     ]
    }
   ],
   "source": [
    "folder_name=f'{model_name} at {strftime(\"%H %M %S\")}'\n",
    "directory=os.path.join(LOGGING_PATH,folder_name)\n",
    "\n",
    "try:\n",
    "    os.makedirs(directory)\n",
    "except OSError as exception:\n",
    "    print(exception.strerror)\n",
    "else:\n",
    "    print(\"created successfully!!!\")"
   ]
  },
  {
   "cell_type": "code",
   "execution_count": null,
   "id": "906553e7",
   "metadata": {},
   "outputs": [],
   "source": []
  },
  {
   "cell_type": "code",
   "execution_count": null,
   "id": "221af1f8",
   "metadata": {},
   "outputs": [],
   "source": []
  },
  {
   "cell_type": "code",
   "execution_count": null,
   "id": "3c975952",
   "metadata": {},
   "outputs": [],
   "source": []
  },
  {
   "cell_type": "markdown",
   "id": "1dacd5d2",
   "metadata": {},
   "source": [
    "# Loss, Optimisation & Metrics"
   ]
  },
  {
   "cell_type": "markdown",
   "id": "f69fadb5",
   "metadata": {},
   "source": [
    "### Defining loss function"
   ]
  },
  {
   "cell_type": "code",
   "execution_count": 104,
   "id": "4f20576b",
   "metadata": {},
   "outputs": [
    {
     "name": "stdout",
     "output_type": "stream",
     "text": [
      "WARNING:tensorflow:From C:\\Users\\AKASH.N\\anaconda3\\lib\\site-packages\\tensorflow\\python\\util\\dispatch.py:201: softmax_cross_entropy_with_logits (from tensorflow.python.ops.nn_ops) is deprecated and will be removed in a future version.\n",
      "Instructions for updating:\n",
      "\n",
      "Future major versions of TensorFlow will allow gradients to flow\n",
      "into the labels input on backprop by default.\n",
      "\n",
      "See `tf.nn.softmax_cross_entropy_with_logits_v2`.\n",
      "\n"
     ]
    }
   ],
   "source": [
    "with tf.name_scope('loss_calc'):\n",
    "    loss=tf.compat.v1.reduce_mean(tf.compat.v1.nn.softmax_cross_entropy_with_logits(labels=Y,logits=output))\n",
    "\n"
   ]
  },
  {
   "cell_type": "markdown",
   "id": "2d6a0a48",
   "metadata": {},
   "source": [
    "### Defining optimizer\n"
   ]
  },
  {
   "cell_type": "code",
   "execution_count": 105,
   "id": "a24e3b6a",
   "metadata": {},
   "outputs": [],
   "source": [
    "#tf.compat allows you to write code that works both in TensorFlow 1.x and 2.x.\n",
    "with tf.name_scope('optimizer'):\n",
    "    optimiser=tf.compat.v1.train.AdamOptimizer(learning_rate)\n",
    "    train_step=optimiser.minimize(loss)"
   ]
  },
  {
   "cell_type": "markdown",
   "id": "ba086283",
   "metadata": {},
   "source": [
    "### Defining Accurracy metric\n"
   ]
  },
  {
   "cell_type": "code",
   "execution_count": 106,
   "id": "8bde8cfe",
   "metadata": {},
   "outputs": [],
   "source": [
    "with tf.name_scope('accuracy_calc'):\n",
    "    model_prediction=tf.compat.v1.argmax(output,axis=1)\n",
    "    corrct_pred=tf.compat.v1.equal(model_prediction,tf.compat.v1.argmax(Y,axis=1))\n",
    "    accurracy=tf.compat.v1.reduce_mean(tf.cast(corrct_pred,tf.float32))\n"
   ]
  },
  {
   "cell_type": "code",
   "execution_count": 107,
   "id": "66f4b9d9",
   "metadata": {},
   "outputs": [],
   "source": [
    "#creating summary of accuracy ,loss  for tensorboard\n",
    "with tf.name_scope('performance'):\n",
    "    tf.compat.v1.summary.scalar('accuracy', accurracy)\n",
    "    tf.compat.v1.summary.scalar('cost', loss)"
   ]
  },
  {
   "cell_type": "code",
   "execution_count": null,
   "id": "1e52d830",
   "metadata": {},
   "outputs": [],
   "source": []
  },
  {
   "cell_type": "markdown",
   "id": "21fc59b1",
   "metadata": {},
   "source": [
    "### Visualisation in Tensorboard"
   ]
  },
  {
   "cell_type": "code",
   "execution_count": 109,
   "id": "37197876",
   "metadata": {},
   "outputs": [
    {
     "data": {
      "text/plain": [
       "<tf.Tensor 'Image_input:0' shape=() dtype=string>"
      ]
     },
     "execution_count": 109,
     "metadata": {},
     "output_type": "execute_result"
    }
   ],
   "source": [
    "x_image=tf.compat.v1.reshape(X,[-1,28,28,1])\n",
    "tf.compat.v1.summary.image(\"Image_input\",x_image,max_outputs=4)"
   ]
  },
  {
   "cell_type": "markdown",
   "id": "ed932642",
   "metadata": {},
   "source": [
    "## Run session"
   ]
  },
  {
   "cell_type": "code",
   "execution_count": 110,
   "id": "8f4fb0c5",
   "metadata": {},
   "outputs": [],
   "source": [
    "sess=tf.compat.v1.Session()"
   ]
  },
  {
   "cell_type": "markdown",
   "id": "5d03da34",
   "metadata": {},
   "source": [
    "#### Creating file writer and merge summaries"
   ]
  },
  {
   "cell_type": "code",
   "execution_count": 111,
   "id": "26bf0c13",
   "metadata": {},
   "outputs": [],
   "source": [
    "merged_summary=tf.compat.v1.summary.merge_all()\n",
    "train_writer=tf.compat.v1.summary.FileWriter(directory+'/train')\n",
    "\n",
    "validation_writer=tf.compat.v1.summary.FileWriter(directory+'/validation')"
   ]
  },
  {
   "cell_type": "code",
   "execution_count": 112,
   "id": "d772e1bc",
   "metadata": {},
   "outputs": [],
   "source": [
    "train_writer.add_graph(sess.graph)\n",
    "validation_writer.add_graph(sess.graph)\n",
    "\n"
   ]
  },
  {
   "cell_type": "code",
   "execution_count": 113,
   "id": "f8b86d6e",
   "metadata": {},
   "outputs": [
    {
     "data": {
      "text/plain": [
       "<tf.Tensor 'Merge/MergeSummary:0' shape=() dtype=string>"
      ]
     },
     "execution_count": 113,
     "metadata": {},
     "output_type": "execute_result"
    }
   ],
   "source": [
    "merged_summary"
   ]
  },
  {
   "cell_type": "markdown",
   "id": "65fafbf4",
   "metadata": {},
   "source": [
    "### initialising variables:"
   ]
  },
  {
   "cell_type": "code",
   "execution_count": 114,
   "id": "f2c2abee",
   "metadata": {},
   "outputs": [],
   "source": [
    "init=tf.compat.v1.global_variables_initializer()\n",
    "sess.run(init)"
   ]
  },
  {
   "cell_type": "code",
   "execution_count": 115,
   "id": "bae91c77",
   "metadata": {},
   "outputs": [],
   "source": [
    "#b3.eval(sess)"
   ]
  },
  {
   "cell_type": "code",
   "execution_count": null,
   "id": "f1927ff5",
   "metadata": {},
   "outputs": [],
   "source": []
  },
  {
   "cell_type": "markdown",
   "id": "fa7ca666",
   "metadata": {},
   "source": [
    "## Batching data"
   ]
  },
  {
   "cell_type": "code",
   "execution_count": 116,
   "id": "03002a28",
   "metadata": {},
   "outputs": [],
   "source": [
    "size_of_batch=1000\n",
    "\n",
    "num_examples=y_train.shape[0]\n",
    "nr_iterations=int(num_examples/size_of_batch)\n",
    "\n",
    "index_in_epoch=0"
   ]
  },
  {
   "cell_type": "code",
   "execution_count": 117,
   "id": "682c9592",
   "metadata": {},
   "outputs": [],
   "source": [
    "def next_batch(batch_size,data,labels):\n",
    "    global num_examples\n",
    "    global index_in_epoch\n",
    "    \n",
    "    start=index_in_epoch\n",
    "    index_in_epoch+=batch_size\n",
    "    if index_in_epoch>num_examples:\n",
    "        start=0\n",
    "        index_in_epoch=batch_size\n",
    "    end=index_in_epoch\n",
    "    \n",
    "    return data[start:end],labels[start:end]"
   ]
  },
  {
   "cell_type": "markdown",
   "id": "7eef2c1f",
   "metadata": {},
   "source": [
    "## Training loop"
   ]
  },
  {
   "cell_type": "code",
   "execution_count": 118,
   "id": "d584efd4",
   "metadata": {},
   "outputs": [
    {
     "name": "stdout",
     "output_type": "stream",
     "text": [
      "Epoch 0 | Training accuracy 0.8560000061988831\n",
      "Epoch 1 | Training accuracy 0.9710000157356262\n",
      "Epoch 2 | Training accuracy 0.9739999771118164\n",
      "Epoch 3 | Training accuracy 0.9819999933242798\n",
      "Epoch 4 | Training accuracy 0.9750000238418579\n",
      "Epoch 5 | Training accuracy 0.984000027179718\n",
      "Epoch 6 | Training accuracy 0.9810000061988831\n",
      "Epoch 7 | Training accuracy 0.9869999885559082\n",
      "Epoch 8 | Training accuracy 0.9760000109672546\n",
      "Epoch 9 | Training accuracy 0.9760000109672546\n",
      "Epoch 10 | Training accuracy 0.9750000238418579\n",
      "Epoch 11 | Training accuracy 0.9779999852180481\n",
      "Epoch 12 | Training accuracy 0.9710000157356262\n",
      "Epoch 13 | Training accuracy 0.9789999723434448\n",
      "Epoch 14 | Training accuracy 0.984000027179718\n",
      "Epoch 15 | Training accuracy 0.9810000061988831\n",
      "Epoch 16 | Training accuracy 0.9860000014305115\n",
      "Epoch 17 | Training accuracy 0.9789999723434448\n",
      "Epoch 18 | Training accuracy 0.9789999723434448\n",
      "Epoch 19 | Training accuracy 0.9779999852180481\n",
      "Epoch 20 | Training accuracy 0.9760000109672546\n",
      "Epoch 21 | Training accuracy 0.9769999980926514\n",
      "Epoch 22 | Training accuracy 0.9869999885559082\n",
      "Epoch 23 | Training accuracy 0.9660000205039978\n",
      "Epoch 24 | Training accuracy 0.968999981880188\n",
      "Epoch 25 | Training accuracy 0.9739999771118164\n",
      "Epoch 26 | Training accuracy 0.9729999899864197\n",
      "Epoch 27 | Training accuracy 0.9710000157356262\n",
      "Epoch 28 | Training accuracy 0.9779999852180481\n",
      "Epoch 29 | Training accuracy 0.9810000061988831\n",
      "Epoch 30 | Training accuracy 0.9710000157356262\n",
      "Epoch 31 | Training accuracy 0.9769999980926514\n",
      "Epoch 32 | Training accuracy 0.972000002861023\n",
      "Epoch 33 | Training accuracy 0.9620000123977661\n",
      "Epoch 34 | Training accuracy 0.9570000171661377\n",
      "Epoch 35 | Training accuracy 0.9589999914169312\n",
      "Epoch 36 | Training accuracy 0.9599999785423279\n",
      "Epoch 37 | Training accuracy 0.972000002861023\n",
      "Epoch 38 | Training accuracy 0.9729999899864197\n",
      "Epoch 39 | Training accuracy 0.9729999899864197\n",
      "Epoch 40 | Training accuracy 0.9829999804496765\n",
      "Epoch 41 | Training accuracy 0.9710000157356262\n",
      "Epoch 42 | Training accuracy 0.9729999899864197\n",
      "Epoch 43 | Training accuracy 0.9729999899864197\n",
      "Epoch 44 | Training accuracy 0.9509999752044678\n",
      "Epoch 45 | Training accuracy 0.9509999752044678\n",
      "Epoch 46 | Training accuracy 0.9679999947547913\n",
      "Epoch 47 | Training accuracy 0.9660000205039978\n",
      "Epoch 48 | Training accuracy 0.972000002861023\n",
      "Epoch 49 | Training accuracy 0.9559999704360962\n",
      " Job done !!!\n"
     ]
    }
   ],
   "source": [
    "##nr_epochs=4\n",
    "for epoch in range(nr_epochs):\n",
    "    # ============= Training Dataset =========\n",
    "    for i in range(nr_iterations):\n",
    "        batch_x,batch_y=next_batch(size_of_batch,data=x_train,labels=y_train)\n",
    "        feed_dictionary={X:batch_x,Y:batch_y}\n",
    "        sess.run(train_step,feed_dict=feed_dictionary)\n",
    "        #tensorboard remebers things of session using summary\n",
    "    batch_accuracy,s=sess.run(fetches=[accurracy,merged_summary],feed_dict=feed_dictionary)\n",
    "    train_writer.add_summary(s,epoch)\n",
    "    print(f\"Epoch {epoch} | Training accuracy {batch_accuracy}\")\n",
    "    \n",
    "    # ================== Validation ======================\n",
    "    feed_dictionary={X:x_val,Y:y_val}\n",
    "    summary=sess.run(fetches=merged_summary,feed_dict=feed_dictionary)\n",
    "    validation_writer.add_summary(summary,epoch)\n",
    "print(\" Job done !!!\")"
   ]
  },
  {
   "cell_type": "markdown",
   "id": "87bd53bf",
   "metadata": {},
   "source": [
    "## Make prediction"
   ]
  },
  {
   "cell_type": "code",
   "execution_count": null,
   "id": "a6065df4",
   "metadata": {},
   "outputs": [],
   "source": [
    "imag=Image.open(\"MNIST/test_img.png\")\n",
    "imag"
   ]
  },
  {
   "cell_type": "code",
   "execution_count": null,
   "id": "280e8241",
   "metadata": {},
   "outputs": [],
   "source": [
    "bw=imag.convert('L')#converting to grayscale"
   ]
  },
  {
   "cell_type": "code",
   "execution_count": null,
   "id": "5d2547ca",
   "metadata": {},
   "outputs": [],
   "source": [
    "img_array = np.invert(bw)## white to black and black to white"
   ]
  },
  {
   "cell_type": "code",
   "execution_count": null,
   "id": "ba11d68d",
   "metadata": {},
   "outputs": [],
   "source": [
    "img_array.shape"
   ]
  },
  {
   "cell_type": "code",
   "execution_count": null,
   "id": "fb21eba9",
   "metadata": {},
   "outputs": [],
   "source": [
    "\"\"\"The numpy.ravel() functions returns contiguous \n",
    "flattened array(1D array with all the input-array elements and with the same type as it\"\"\"\n",
    "test_img = img_array.ravel()"
   ]
  },
  {
   "cell_type": "code",
   "execution_count": null,
   "id": "cf49afc8",
   "metadata": {},
   "outputs": [],
   "source": [
    "test_img.shape"
   ]
  },
  {
   "cell_type": "code",
   "execution_count": null,
   "id": "79d679f7",
   "metadata": {},
   "outputs": [],
   "source": [
    "prediction=sess.run(fetches=tf.argmax(output,axis=1),feed_dict={X:[test_img]})"
   ]
  },
  {
   "cell_type": "code",
   "execution_count": null,
   "id": "d5ffff21",
   "metadata": {},
   "outputs": [],
   "source": [
    "prediction"
   ]
  },
  {
   "cell_type": "code",
   "execution_count": null,
   "id": "d7197f93",
   "metadata": {},
   "outputs": [],
   "source": []
  },
  {
   "cell_type": "markdown",
   "id": "3f7b477d",
   "metadata": {},
   "source": [
    "# Testing and Evaluation"
   ]
  },
  {
   "cell_type": "code",
   "execution_count": null,
   "id": "3b3eab16",
   "metadata": {},
   "outputs": [],
   "source": [
    "test_accuracy=sess.run(fetches=accurracy,feed_dict={X:x_test,Y:y_test})"
   ]
  },
  {
   "cell_type": "code",
   "execution_count": null,
   "id": "55fc5c20",
   "metadata": {},
   "outputs": [],
   "source": [
    "test_accuracy"
   ]
  },
  {
   "cell_type": "markdown",
   "id": "7434547e",
   "metadata": {},
   "source": [
    "## Saving the model"
   ]
  },
  {
   "cell_type": "code",
   "execution_count": null,
   "id": "78780f8c",
   "metadata": {},
   "outputs": [],
   "source": [
    "outputs_={\"accuracy_calc/prediction\":model_prediction}\n",
    "inputs__={\"X\":X}\n",
    "path=\"Saved_models\"\n",
    "\n",
    "tf.compat.v1.saved_model.simple_save(session=sess,export_dir=path,inputs=inputs__,outputs=outputs_)"
   ]
  },
  {
   "cell_type": "code",
   "execution_count": null,
   "id": "8a2e2d92",
   "metadata": {},
   "outputs": [],
   "source": []
  },
  {
   "cell_type": "code",
   "execution_count": null,
   "id": "aa6ab3da",
   "metadata": {},
   "outputs": [],
   "source": []
  },
  {
   "cell_type": "code",
   "execution_count": null,
   "id": "b94cafee",
   "metadata": {},
   "outputs": [],
   "source": []
  },
  {
   "cell_type": "code",
   "execution_count": null,
   "id": "d17068cd",
   "metadata": {},
   "outputs": [],
   "source": []
  },
  {
   "cell_type": "code",
   "execution_count": null,
   "id": "2a550b64",
   "metadata": {},
   "outputs": [],
   "source": []
  },
  {
   "cell_type": "markdown",
   "id": "8320a740",
   "metadata": {},
   "source": [
    "## Resetting for next run"
   ]
  },
  {
   "cell_type": "code",
   "execution_count": null,
   "id": "2c5047da",
   "metadata": {},
   "outputs": [],
   "source": [
    "# train_writer.close()\n",
    "# validation_writer.close()\n",
    "# sess.close()\n",
    "# tf.compat.v1.reset_default_graph()"
   ]
  },
  {
   "cell_type": "code",
   "execution_count": null,
   "id": "d253b499",
   "metadata": {},
   "outputs": [],
   "source": []
  },
  {
   "cell_type": "code",
   "execution_count": null,
   "id": "51d16e62",
   "metadata": {},
   "outputs": [],
   "source": []
  },
  {
   "cell_type": "code",
   "execution_count": null,
   "id": "51a67f6d",
   "metadata": {},
   "outputs": [],
   "source": []
  },
  {
   "cell_type": "code",
   "execution_count": null,
   "id": "6ebe01b3",
   "metadata": {},
   "outputs": [],
   "source": []
  },
  {
   "cell_type": "code",
   "execution_count": null,
   "id": "f8b2e567",
   "metadata": {},
   "outputs": [],
   "source": []
  },
  {
   "cell_type": "code",
   "execution_count": null,
   "id": "890d5f39",
   "metadata": {},
   "outputs": [],
   "source": []
  },
  {
   "cell_type": "code",
   "execution_count": null,
   "id": "325cbdcd",
   "metadata": {},
   "outputs": [],
   "source": []
  },
  {
   "cell_type": "code",
   "execution_count": null,
   "id": "ae9624fa",
   "metadata": {},
   "outputs": [],
   "source": []
  },
  {
   "cell_type": "code",
   "execution_count": null,
   "id": "d0139c66",
   "metadata": {},
   "outputs": [],
   "source": []
  },
  {
   "cell_type": "code",
   "execution_count": null,
   "id": "a99ce8ee",
   "metadata": {},
   "outputs": [],
   "source": []
  },
  {
   "cell_type": "code",
   "execution_count": null,
   "id": "36b6aa5c",
   "metadata": {},
   "outputs": [],
   "source": []
  },
  {
   "cell_type": "code",
   "execution_count": null,
   "id": "7a2bf85b",
   "metadata": {},
   "outputs": [],
   "source": []
  },
  {
   "cell_type": "code",
   "execution_count": null,
   "id": "5feab447",
   "metadata": {},
   "outputs": [],
   "source": []
  },
  {
   "cell_type": "code",
   "execution_count": null,
   "id": "f399f733",
   "metadata": {},
   "outputs": [],
   "source": []
  },
  {
   "cell_type": "code",
   "execution_count": null,
   "id": "6c9417f3",
   "metadata": {},
   "outputs": [],
   "source": []
  }
 ],
 "metadata": {
  "kernelspec": {
   "display_name": "Python 3",
   "language": "python",
   "name": "python3"
  },
  "language_info": {
   "codemirror_mode": {
    "name": "ipython",
    "version": 3
   },
   "file_extension": ".py",
   "mimetype": "text/x-python",
   "name": "python",
   "nbconvert_exporter": "python",
   "pygments_lexer": "ipython3",
   "version": "3.8.8"
  }
 },
 "nbformat": 4,
 "nbformat_minor": 5
}
